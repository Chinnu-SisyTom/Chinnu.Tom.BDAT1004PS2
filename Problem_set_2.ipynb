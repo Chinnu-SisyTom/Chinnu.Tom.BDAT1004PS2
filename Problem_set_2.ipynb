{
 "cells": [
  {
   "cell_type": "markdown",
   "id": "952ba6a7",
   "metadata": {},
   "source": [
    "Question 1\n"
   ]
  },
  {
   "cell_type": "code",
   "execution_count": 2,
   "id": "bf049a5d",
   "metadata": {},
   "outputs": [
    {
     "data": {
      "text/plain": [
       "6"
      ]
     },
     "execution_count": 2,
     "metadata": {},
     "output_type": "execute_result"
    }
   ],
   "source": [
    "a = 0\n",
    "\n",
    "def b():\n",
    " global a\n",
    " a = c(a)\n",
    "    \n",
    "def c(a):\n",
    " return a + 2\n",
    "\n",
    "b()\n",
    "b()\n",
    "b()\n",
    "a"
   ]
  },
  {
   "cell_type": "markdown",
   "id": "284d295f",
   "metadata": {},
   "source": [
    "Variable 'a' is defined as global variable in function b, Inside function b we are calling function c. While calling fuction c, each function call the value of 'a' will become 2 and then increases by 2 in every call.so after the 3 rd call it will become 6."
   ]
  },
  {
   "cell_type": "markdown",
   "id": "dd5fa24a",
   "metadata": {},
   "source": [
    "Question 2"
   ]
  },
  {
   "cell_type": "code",
   "execution_count": 14,
   "id": "ac871803",
   "metadata": {},
   "outputs": [
    {
     "name": "stdout",
     "output_type": "stream",
     "text": [
      "123\n",
      "File idterm.py not found!!\n"
     ]
    }
   ],
   "source": [
    "def fileLength(filename): #defening function\n",
    "    try:\n",
    "        inputfile = open(filename)\n",
    "        words = inputfile.read()\n",
    "        inputfile.close()\n",
    "        print(len(words))\n",
    "    except:\n",
    "        print(\"File \"+filename+\" not found!!\")\n",
    "fileLength(\"midterm.py\") #calling function with actual input\n",
    "fileLength(\"idterm.py\") # calling function to catch error"
   ]
  },
  {
   "cell_type": "markdown",
   "id": "a527913b",
   "metadata": {},
   "source": [
    "Question 3"
   ]
  },
  {
   "cell_type": "code",
   "execution_count": 15,
   "id": "8aec61cd",
   "metadata": {},
   "outputs": [
    {
     "name": "stdout",
     "output_type": "stream",
     "text": [
      "I am a Kangaroo located at coordinates ( 0,0)\n",
      "['doll', 'firetruck', 'kitten']\n",
      "I am a Kangaroo located at coordinates ( 3,0)\n"
     ]
    }
   ],
   "source": [
    "class Marsupial:                 #parent class intialized\n",
    "    def __init__(self,x,y):       #defining constructor\n",
    "        self.pouch=[]                   \n",
    "             \n",
    "    def put_in_pouch(self,items):   # appending items to pouch\n",
    "        self.pouch.append(items)\n",
    "        \n",
    "    def pouch_contents(self):           \n",
    "        return self.pouch\n",
    "\n",
    "class Kangaroo(Marsupial):         #creating sub-class \n",
    "    def __init__(self,x,y):              \n",
    "        super().__init__(x,y)     #super constructor\n",
    "        self.dx = 0                      \n",
    "        self.dy = 0                        \n",
    "    \n",
    "    def jump(self,x,y):                 \n",
    "        self.dx = self.dx + x    #defining jump function to jump the coordinates of Kangaroo as per input \n",
    "        self.dy = self.dy + y\n",
    "    \n",
    "    def __str__(self):         \n",
    "        \n",
    "        return ('I am a Kangaroo located at coordinates ( {},{})'.format(self.dx,self.dy))\n",
    "\n",
    "k = Kangaroo(0,0)\n",
    "print(k)\n",
    "k.put_in_pouch('doll')\n",
    "k.put_in_pouch('firetruck')\n",
    "k.put_in_pouch('kitten')\n",
    "k.pouch_contents()\n",
    "print(k.pouch)  \n",
    "k.jump(1,0)\n",
    "k.jump(1,0)\n",
    "k.jump(1,0)\n",
    "print(k)\n"
   ]
  },
  {
   "cell_type": "markdown",
   "id": "b19d39ec",
   "metadata": {},
   "source": [
    "Question 4"
   ]
  },
  {
   "cell_type": "code",
   "execution_count": 16,
   "id": "104d2fb1",
   "metadata": {},
   "outputs": [
    {
     "name": "stdout",
     "output_type": "stream",
     "text": [
      "1\n",
      "\n",
      "\n",
      "10\n",
      "5\n",
      "16\n",
      "8\n",
      "4\n",
      "2\n",
      "1\n"
     ]
    }
   ],
   "source": [
    "def collatz (x):  #defining function\n",
    "    if(x != 1): \n",
    "        print(x )\n",
    "    if(x == 1):\n",
    "        print(x)\n",
    "        return x\n",
    "    if(x%2 == 0):  #even number\n",
    "        x = x // 2\n",
    "        collatz(x)\n",
    "    else:               #odd number\n",
    "        x= 3*x + 1\n",
    "        collatz(x)\n",
    "\n",
    "\n",
    "collatz(1)  \n",
    "print('\\n')\n",
    "collatz(10)"
   ]
  },
  {
   "cell_type": "markdown",
   "id": "1a9a2c3e",
   "metadata": {},
   "source": [
    "Question 5"
   ]
  },
  {
   "cell_type": "code",
   "execution_count": 17,
   "id": "f70e5bb8",
   "metadata": {},
   "outputs": [
    {
     "name": "stdout",
     "output_type": "stream",
     "text": [
      "0\n",
      "1\n",
      "11\n",
      "1001\n"
     ]
    }
   ],
   "source": [
    "binary_form =\"\"\n",
    "def binary (n):\n",
    "    global binary_form  #defining global variabl\n",
    "    if(n==0): \n",
    "        print(\"0\")\n",
    "        \n",
    "    elif(n==1):\n",
    "        binary_form +=\"1\" # appending 1 to end of string\n",
    "        binary_form = binary_form [::-1] #reversing the string\n",
    "        print(binary_form)\n",
    "        binary_form=\"\"  #re-intializing the global variable\n",
    "            \n",
    "    else:\n",
    "        x=\"\"\n",
    "        remainder = int(n%2)\n",
    "        x =str(remainder)\n",
    "        binary_form+=x  #appending remainder to binary format\n",
    "        n =int(n/2)\n",
    "        binary(n) #recurive function\n",
    "\n",
    "        \n",
    "binary(0)\n",
    "binary(1)\n",
    "binary(3)\n",
    "binary(9)"
   ]
  },
  {
   "cell_type": "markdown",
   "id": "c6d4694b",
   "metadata": {},
   "source": [
    "Question 6"
   ]
  },
  {
   "cell_type": "code",
   "execution_count": 19,
   "id": "54097292",
   "metadata": {},
   "outputs": [
    {
     "name": "stdout",
     "output_type": "stream",
     "text": [
      "W3C Mission\n",
      " Principles\n"
     ]
    }
   ],
   "source": [
    "from html.parser import HTMLParser\n",
    "class HeadingParser(HTMLParser):\n",
    "    indent = -6 \n",
    "        \n",
    "    def handle_starttag(self, tag, attrs): # function to assign indentation according to heading tag\n",
    "        if tag == 'h1':\n",
    "            self.indent = 0\n",
    "        elif tag == 'h2':\n",
    "            self.indent = 1\n",
    "        elif tag == 'h3':\n",
    "            self.indent = 2\n",
    "        elif tag == 'h4':\n",
    "            self.indent = 3\n",
    "        elif tag == 'h5':\n",
    "            self.indent = 4            \n",
    "        elif tag == 'h6':\n",
    "            self.indent = 5\n",
    "        else:\n",
    "            self.indent = -6\n",
    "               \n",
    "\n",
    "    def handle_data(self, data):\n",
    "        if data.strip() != \"\":\n",
    "            printWithIndentation(data, self.indent) #calling function to print heading\n",
    "        \n",
    "\n",
    "def printWithIndentation(text, indent):\n",
    "    if indent >= 0:\n",
    "        print(f\"{' ' * indent}{text}\")      #printing heading with intentation \n",
    "\n",
    "input_file = open('w3c.html') \n",
    "content = input_file.read() \n",
    "input_file.close() \n",
    "\n",
    "headingParser = HeadingParser()\n",
    "headingParser.feed(content)"
   ]
  },
  {
   "cell_type": "markdown",
   "id": "3a4fbe7b",
   "metadata": {},
   "source": [
    "Question 8\n",
    "Let the table name be 'city_weather'\n",
    "\n",
    "a) All the temperature data.\n",
    "    select Temperature from city_weather\n",
    "\n",
    "b) All the cities, but without repetition.\n",
    "   select DISTINCT City from city_weather\n",
    "\n",
    "c) All the records for India\n",
    "    select * from city_weather where Country='India'\n",
    "\n",
    "d) All the Fall records.\n",
    "    select * from city_weather where Season='Fall'\n",
    "\n",
    "e) The city, country, and season for which the average rainfall is between 200 and 400 millimeters.\n",
    "    SELECT  City, Country, Season, AVG(Rainfall) FROM city_weather GROUP BY Rainfall Having AVG(Rainfall) BETWEEN 200 AND 400;\n",
    "\n",
    "f) The city and country for which the average Fall temperature is above 20 degrees, in increasing temperature order.\n",
    "    select City, Country, AVG(Temperature) FROM city_weather WHERE Season = 'Fall'  group by Temperature HAVING AVG(Temperature) > 20 ORDER BY AVG(Temperature) ASC;\n",
    "\n",
    "g) The total annual rainfall for Cairo.\n",
    "    select City, SUM(Rainfall) FROM city_weather where City='Cairo'\n",
    "\n",
    "h) The total rainfall for each season.\n",
    "    select Season, SUM(Rainfall) FROM city_weather group by Season"
   ]
  },
  {
   "cell_type": "markdown",
   "id": "83c05a18",
   "metadata": {},
   "source": [
    "Question 9"
   ]
  },
  {
   "cell_type": "code",
   "execution_count": 2,
   "id": "b9839323",
   "metadata": {},
   "outputs": [
    {
     "name": "stdout",
     "output_type": "stream",
     "text": [
      "['THE', 'QUICK', 'BROWN', 'FOX', 'JUMPS', 'OVER', 'THE', 'LAZY', 'DOG']\n",
      "\n",
      "\n",
      "['the', 'quick', 'brown', 'fox', 'jumps', 'over', 'the', 'lazy', 'dog']\n",
      "\n",
      "\n",
      "[3, 5, 5, 3, 5, 4, 3, 4, 3]\n",
      "\n",
      "\n",
      "[['THE', 'the', 3], ['QUICK', 'quick', 5], ['BROWN', 'brown', 5], ['FOX', 'fox', 3], ['JUMPS', 'jumps', 5], ['OVER', 'over', 4], ['THE', 'the', 3], ['LAZY', 'lazy', 4], ['DOG', 'dog', 3]]\n",
      "\n",
      "\n",
      "['quick', 'brown', 'jumps', 'over', 'lazy']\n"
     ]
    }
   ],
   "source": [
    "words = ['The', 'quick', 'brown', 'fox', 'jumps', 'over','the', 'lazy', 'dog']  #defining the list\n",
    "upper_list = []\n",
    "lower_list = []\n",
    "len_list = []\n",
    "mix_list = []\n",
    "four_char_list = []\n",
    "\n",
    "for word in words:\n",
    "    #converting list into uppercase\n",
    "    upper_list.append(word.upper())   \n",
    "    #converting list into lowercase\n",
    "    lower_list.append(word.lower())   \n",
    "    #printing lenght of the words in list\n",
    "    len_list.append(len(word))        \n",
    "    #printing the mix list\n",
    "    mix_list.append([word.upper(), word.lower(), len(word)])    \n",
    "    \n",
    "    #printing word the list of words in list words containing 4 or more characters.\n",
    "    if len(word) >= 4:                  \n",
    "        four_char_list.append(word)\n",
    "\n",
    "#printing list\n",
    "print(upper_list)\n",
    "print('\\n')\n",
    "print(lower_list)\n",
    "print('\\n')\n",
    "print(len_list)\n",
    "print('\\n')\n",
    "print(mix_list)\n",
    "print('\\n')\n",
    "print(four_char_list)"
   ]
  }
 ],
 "metadata": {
  "kernelspec": {
   "display_name": "Python 3 (ipykernel)",
   "language": "python",
   "name": "python3"
  },
  "language_info": {
   "codemirror_mode": {
    "name": "ipython",
    "version": 3
   },
   "file_extension": ".py",
   "mimetype": "text/x-python",
   "name": "python",
   "nbconvert_exporter": "python",
   "pygments_lexer": "ipython3",
   "version": "3.9.12"
  }
 },
 "nbformat": 4,
 "nbformat_minor": 5
}
